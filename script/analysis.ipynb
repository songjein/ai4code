{
 "cells": [
  {
   "cell_type": "code",
   "execution_count": 1,
   "metadata": {},
   "outputs": [],
   "source": [
    "import csv\n",
    "import pandas as pd\n",
    "import ast\n",
    "\n",
    "from bisect import bisect\n",
    "from scipy.stats.stats import pearsonr\n",
    "from matplotlib import pyplot as plt"
   ]
  },
  {
   "cell_type": "code",
   "execution_count": 3,
   "metadata": {},
   "outputs": [],
   "source": [
    "ctx30_valid_score = pd.read_csv(\"../data/evaluation/pred_gt_orders_30ctx.csv\")\n",
    "ctx40_valid_score = pd.read_csv(\"../data/evaluation/pred_gt_orders_40ctx.csv\")"
   ]
  },
  {
   "cell_type": "markdown",
   "metadata": {},
   "source": [
    "# 1. Kendall Tau Correlation Coefficient 분석\n",
    "\n",
    "https://www.kaggle.com/code/cbeaud/ai4code-codebert-pairwise-score-0-8470"
   ]
  },
  {
   "cell_type": "code",
   "execution_count": 4,
   "metadata": {},
   "outputs": [],
   "source": [
    "def count_inversions(a):\n",
    "    inversions = 0\n",
    "    sorted_so_far = []\n",
    "    for i, u in enumerate(a):\n",
    "        j = bisect(sorted_so_far, u)\n",
    "        inversions += i - j\n",
    "        sorted_so_far.insert(j, u)\n",
    "    return inversions"
   ]
  },
  {
   "cell_type": "code",
   "execution_count": 5,
   "metadata": {},
   "outputs": [],
   "source": [
    "def kendall_tau(ground_truth, predictions):\n",
    "    total_inversions = 0\n",
    "    total_2max = 0  # twice the maximum possible inversions across all instances\n",
    "    \n",
    "    for gt, pred in zip(ground_truth, predictions):\n",
    "        ranks = [gt.index(x) for x in pred]  # rank predicted order in terms of ground truth\n",
    "        total_inversions += count_inversions(ranks)\n",
    "        n = len(gt)\n",
    "        total_2max += n * (n - 1)\n",
    "\n",
    "    return 1 - 4 * total_inversions / total_2max"
   ]
  },
  {
   "cell_type": "markdown",
   "metadata": {},
   "source": [
    "## 1.1. 샘플 내 셀 개수와 Kendall Coefficient 간 상관 관계 분석"
   ]
  },
  {
   "cell_type": "code",
   "execution_count": 6,
   "metadata": {},
   "outputs": [],
   "source": [
    "ctx30_valid_prediction, ctx30_valid_answer = ctx30_valid_score[\"cell_id\"], ctx30_valid_score[\"cell_order\"]\n",
    "ctx40_valid_prediction, ctx40_valid_answer = ctx40_valid_score[\"cell_id\"], ctx40_valid_score[\"cell_order\"]\n",
    "\n",
    "assert len(ctx30_valid_prediction) == len(ctx30_valid_answer)\n",
    "assert len(ctx40_valid_prediction) == len(ctx40_valid_answer)"
   ]
  },
  {
   "cell_type": "code",
   "execution_count": 7,
   "metadata": {},
   "outputs": [],
   "source": [
    "ctx30_valid_prediction, ctx30_valid_answer = [ast.literal_eval(pred) for pred in ctx30_valid_prediction], [ast.literal_eval(ans) for ans in ctx30_valid_answer]\n",
    "ctx40_valid_prediction, ctx40_valid_answer = [ast.literal_eval(pred) for pred in ctx40_valid_prediction], [ast.literal_eval(ans) for ans in ctx40_valid_answer]"
   ]
  },
  {
   "cell_type": "code",
   "execution_count": 12,
   "metadata": {},
   "outputs": [],
   "source": [
    "def draw_scatter_plot(answer_list, prediction_list):\n",
    "    X_len = []\n",
    "    Y_score = []\n",
    "\n",
    "    for gt, pred in zip(answer_list, prediction_list):\n",
    "        X_len.append(len(pred))\n",
    "        Y_score.append(kendall_tau([gt], [pred]))\n",
    "        \n",
    "    print(f\"pearsonr correlation is {pearsonr(X_len, Y_score)[0]}\")\n",
    "\n",
    "    plt.scatter(X_len, Y_score)\n",
    "    plt.show()\n",
    "\n",
    "    return Y_score"
   ]
  },
  {
   "cell_type": "code",
   "execution_count": 13,
   "metadata": {},
   "outputs": [
    {
     "name": "stdout",
     "output_type": "stream",
     "text": [
      "pearsonr correlation is -0.059662351031104385\n"
     ]
    },
    {
     "data": {
      "image/png": "[encoded data removed]",
      "text/plain": [
       "<Figure size 432x288 with 1 Axes>"
      ]
     },
     "metadata": {
      "needs_background": "light"
     },
     "output_type": "display_data"
    },
    {
     "name": "stdout",
     "output_type": "stream",
     "text": [
      "pearsonr correlation is -0.06055689257802984\n"
     ]
    },
    {
     "data": {
      "image/png": "[encoded data removed]",
      "text/plain": [
       "<Figure size 432x288 with 1 Axes>"
      ]
     },
     "metadata": {
      "needs_background": "light"
     },
     "output_type": "display_data"
    }
   ],
   "source": [
    "ctx30_kendall_coefficients = draw_scatter_plot(ctx30_valid_answer, ctx30_valid_prediction)\n",
    "ctx40_kendall_coefficients = draw_scatter_plot(ctx40_valid_answer, ctx40_valid_prediction)"
   ]
  },
  {
   "cell_type": "code",
   "execution_count": 14,
   "metadata": {},
   "outputs": [],
   "source": [
    "ctx30_valid_score[\"kendall\"] = ctx30_kendall_coefficients\n",
    "ctx40_valid_score[\"kendall\"] = ctx40_kendall_coefficients"
   ]
  },
  {
   "cell_type": "code",
   "execution_count": 18,
   "metadata": {},
   "outputs": [],
   "source": [
    "ctx30_valid_score.to_csv(\"../data/evaluation/pred_gt_orders_30ctx_w_kendall\")\n",
    "ctx40_valid_score.to_csv(\"../data/evaluation/pred_gt_orders_40ctx_w_kendall\")"
   ]
  },
  {
   "cell_type": "markdown",
   "metadata": {},
   "source": [
    "## 1.2. Kendall Tau Coefficient가 낮은 샘플들 정성적으로 확인"
   ]
  },
  {
   "cell_type": "code",
   "execution_count": 40,
   "metadata": {},
   "outputs": [
    {
     "data": {
      "text/plain": [
       "(-0.059662351031104385, 2.22362689399842e-12)"
      ]
     },
     "execution_count": 40,
     "metadata": {},
     "output_type": "execute_result"
    }
   ],
   "source": []
  },
  {
   "cell_type": "code",
   "execution_count": null,
   "metadata": {},
   "outputs": [],
   "source": []
  }
 ],
 "metadata": {
  "kernelspec": {
   "display_name": "Python 3.7.5 ('env': venv)",
   "language": "python",
   "name": "python3"
  },
  "language_info": {
   "codemirror_mode": {
    "name": "ipython",
    "version": 3
   },
   "file_extension": ".py",
   "mimetype": "text/x-python",
   "name": "python",
   "nbconvert_exporter": "python",
   "pygments_lexer": "ipython3",
   "version": "3.7.5"
  },
  "orig_nbformat": 4,
  "vscode": {
   "interpreter": {
    "hash": "6e8099110305132e0762d24faec0d94113a002f2a5feee831b1057215f3c964e"
   }
  }
 },
 "nbformat": 4,
 "nbformat_minor": 2
}
